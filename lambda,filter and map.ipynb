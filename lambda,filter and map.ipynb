{
 "cells": [
  {
   "cell_type": "code",
   "execution_count": 1,
   "id": "845810a9",
   "metadata": {},
   "outputs": [
    {
     "name": "stdout",
     "output_type": "stream",
     "text": [
      "\n"
     ]
    }
   ],
   "source": [
    "t=input()\n"
   ]
  },
  {
   "cell_type": "code",
   "execution_count": 2,
   "id": "27b3dc38",
   "metadata": {},
   "outputs": [],
   "source": [
    "import re\n",
    "l= re.findall(r'[\\d]+',t)"
   ]
  },
  {
   "cell_type": "code",
   "execution_count": 3,
   "id": "68bcdc31",
   "metadata": {},
   "outputs": [
    {
     "data": {
      "text/plain": [
       "[]"
      ]
     },
     "execution_count": 3,
     "metadata": {},
     "output_type": "execute_result"
    }
   ],
   "source": [
    "l"
   ]
  },
  {
   "cell_type": "code",
   "execution_count": 4,
   "id": "fa433e11",
   "metadata": {},
   "outputs": [],
   "source": [
    "m=re.findall(r'[\\w]+',t)"
   ]
  },
  {
   "cell_type": "code",
   "execution_count": 5,
   "id": "48c8d619",
   "metadata": {},
   "outputs": [
    {
     "data": {
      "text/plain": [
       "[]"
      ]
     },
     "execution_count": 5,
     "metadata": {},
     "output_type": "execute_result"
    }
   ],
   "source": [
    "m"
   ]
  },
  {
   "cell_type": "code",
   "execution_count": 6,
   "id": "01622003",
   "metadata": {},
   "outputs": [
    {
     "name": "stdout",
     "output_type": "stream",
     "text": [
      "3 2\n"
     ]
    },
    {
     "ename": "ValueError",
     "evalue": "invalid literal for int() with base 10: '3 2'",
     "output_type": "error",
     "traceback": [
      "\u001b[1;31m---------------------------------------------------------------------------\u001b[0m",
      "\u001b[1;31mValueError\u001b[0m                                Traceback (most recent call last)",
      "\u001b[1;32m<ipython-input-6-705de9c10023>\u001b[0m in \u001b[0;36m<module>\u001b[1;34m\u001b[0m\n\u001b[1;32m----> 1\u001b[1;33m \u001b[0mR\u001b[0m\u001b[1;33m,\u001b[0m\u001b[0mC\u001b[0m \u001b[1;33m=\u001b[0m \u001b[0mint\u001b[0m\u001b[1;33m(\u001b[0m\u001b[0minput\u001b[0m\u001b[1;33m(\u001b[0m\u001b[1;33m)\u001b[0m\u001b[1;33m)\u001b[0m\u001b[1;33m.\u001b[0m\u001b[0msplit\u001b[0m\u001b[1;33m(\u001b[0m\u001b[1;33m)\u001b[0m\u001b[1;33m\u001b[0m\u001b[1;33m\u001b[0m\u001b[0m\n\u001b[0m",
      "\u001b[1;31mValueError\u001b[0m: invalid literal for int() with base 10: '3 2'"
     ]
    }
   ],
   "source": [
    "R,C = int(input()).split()\n"
   ]
  },
  {
   "cell_type": "code",
   "execution_count": 12,
   "id": "2fe63857",
   "metadata": {},
   "outputs": [
    {
     "name": "stdout",
     "output_type": "stream",
     "text": [
      "3 3\n"
     ]
    }
   ],
   "source": [
    "R,C = map(int,input().split())"
   ]
  },
  {
   "cell_type": "code",
   "execution_count": 13,
   "id": "5b716129",
   "metadata": {},
   "outputs": [
    {
     "data": {
      "text/plain": [
       "3"
      ]
     },
     "execution_count": 13,
     "metadata": {},
     "output_type": "execute_result"
    }
   ],
   "source": [
    "R\n"
   ]
  },
  {
   "cell_type": "code",
   "execution_count": 27,
   "id": "a90a9d23",
   "metadata": {},
   "outputs": [
    {
     "name": "stdout",
     "output_type": "stream",
     "text": [
      "0\n",
      "0\n",
      "0\n",
      "1\n",
      "01\n",
      "0\n",
      "1\n",
      "1\n",
      "0\n",
      "[[0, 0, 0], [1, 1, 0], [1, 1, 0]]\n"
     ]
    }
   ],
   "source": [
    "l = []\n",
    "for row in range(R):\n",
    "    c=[]\n",
    "    for col in range(C):\n",
    "        c.append(int(input()))\n",
    "    l.append(c)\n",
    "print(l)"
   ]
  },
  {
   "cell_type": "markdown",
   "id": "47c1f0c4",
   "metadata": {},
   "source": []
  },
  {
   "cell_type": "code",
   "execution_count": 28,
   "id": "8b6ec462",
   "metadata": {},
   "outputs": [],
   "source": [
    "trMat = [sorted(list(row)) for row in zip(*l)]"
   ]
  },
  {
   "cell_type": "code",
   "execution_count": 29,
   "id": "3fe7c014",
   "metadata": {},
   "outputs": [
    {
     "data": {
      "text/plain": [
       "[[0, 1, 1], [0, 1, 1], [0, 0, 0]]"
      ]
     },
     "execution_count": 29,
     "metadata": {},
     "output_type": "execute_result"
    }
   ],
   "source": [
    "trMat"
   ]
  },
  {
   "cell_type": "code",
   "execution_count": 20,
   "id": "f778eb91",
   "metadata": {},
   "outputs": [],
   "source": [
    "mat = [row for row in zip(*l)]"
   ]
  },
  {
   "cell_type": "code",
   "execution_count": 21,
   "id": "c7b3c68b",
   "metadata": {},
   "outputs": [
    {
     "data": {
      "text/plain": [
       "[(1, 4, 7), (2, 5, 8), (3, 6, 9)]"
      ]
     },
     "execution_count": 21,
     "metadata": {},
     "output_type": "execute_result"
    }
   ],
   "source": [
    "mat"
   ]
  },
  {
   "cell_type": "code",
   "execution_count": 22,
   "id": "76947e14",
   "metadata": {},
   "outputs": [],
   "source": [
    "t= [[1,2],[3,4]]"
   ]
  },
  {
   "cell_type": "code",
   "execution_count": 23,
   "id": "9e44073c",
   "metadata": {},
   "outputs": [],
   "source": [
    "m = [p for p in zip(*t)]"
   ]
  },
  {
   "cell_type": "code",
   "execution_count": 24,
   "id": "fc235e4b",
   "metadata": {},
   "outputs": [
    {
     "data": {
      "text/plain": [
       "[(1, 3), (2, 4)]"
      ]
     },
     "execution_count": 24,
     "metadata": {},
     "output_type": "execute_result"
    }
   ],
   "source": [
    "m"
   ]
  },
  {
   "cell_type": "code",
   "execution_count": 25,
   "id": "108d60d8",
   "metadata": {},
   "outputs": [],
   "source": [
    "mat = [sorted(list(row)) for row in zip(*l)]"
   ]
  },
  {
   "cell_type": "code",
   "execution_count": 45,
   "id": "e87d1292",
   "metadata": {},
   "outputs": [],
   "source": [
    "mat=trMat"
   ]
  },
  {
   "cell_type": "code",
   "execution_count": 46,
   "id": "b159175f",
   "metadata": {},
   "outputs": [],
   "source": [
    "square = lambda num : num**2"
   ]
  },
  {
   "cell_type": "code",
   "execution_count": null,
   "id": "6a820701",
   "metadata": {},
   "outputs": [],
   "source": [
    "l= [1,2,3,4,5]"
   ]
  },
  {
   "cell_type": "code",
   "execution_count": null,
   "id": "c9e7957a",
   "metadata": {},
   "outputs": [],
   "source": [
    "list(map(square,l))"
   ]
  },
  {
   "cell_type": "code",
   "execution_count": null,
   "id": "e8b549e4",
   "metadata": {},
   "outputs": [],
   "source": [
    "mat = sorted(mat,key= lambda x:x.count(0))"
   ]
  },
  {
   "cell_type": "code",
   "execution_count": null,
   "id": "9d64b3c4",
   "metadata": {},
   "outputs": [],
   "source": [
    "mat"
   ]
  },
  {
   "cell_type": "code",
   "execution_count": null,
   "id": "528ee700",
   "metadata": {},
   "outputs": [],
   "source": [
    "R,C = map(int,input().split())\n",
    "l = []\n",
    "for row in range(R):\n",
    "    c=[]\n",
    "    for col in range(C):\n",
    "        c.append(int(input()))\n",
    "    l.append(c)\n",
    "mat = [sorted(list(row)) for row in zip(*l)]\n",
    "mat = sorted(mat,key= lambda x:x.count(0))\n",
    "for row in zip(*mat):\n",
    "    print(*row)"
   ]
  },
  {
   "cell_type": "code",
   "execution_count": null,
   "id": "02d366f3",
   "metadata": {},
   "outputs": [],
   "source": [
    "R,C = map(int,input().split())\n",
    "l = []\n",
    "for row in range(R):\n",
    "    c=[]\n",
    "    for col in range(C):\n",
    "        c.append(int(input()))\n",
    "    l.append(c)\n",
    "mat = [sorted(list(row)) for row in zip(*l)]\n",
    "mat = sorted(mat,key= lambda x:x.count(0))\n",
    "for row in zip(*mat):\n",
    "    print(*row)"
   ]
  },
  {
   "cell_type": "code",
   "execution_count": 2,
   "id": "03e1221a",
   "metadata": {},
   "outputs": [
    {
     "name": "stdout",
     "output_type": "stream",
     "text": [
      "(1, 'a', '@')\n",
      "(2, 'b', '#')\n",
      "(3, 'c', '$')\n"
     ]
    }
   ],
   "source": [
    "a=[1,2,3]\n",
    "b=['a','b','c']\n",
    "c=['@','#','$']\n",
    "for i in zip(a,b,c):\n",
    "    print(i)"
   ]
  },
  {
   "cell_type": "code",
   "execution_count": 4,
   "id": "a03a2086",
   "metadata": {},
   "outputs": [
    {
     "name": "stdout",
     "output_type": "stream",
     "text": [
      "1 4 7\n",
      "2 5 8\n",
      "3 6 9\n"
     ]
    }
   ],
   "source": [
    "a=[[1,2,3],[4,5,6],[7,8,9]]\n",
    "for row in zip(*a):\n",
    "    print(*row)"
   ]
  },
  {
   "cell_type": "code",
   "execution_count": 5,
   "id": "9397b93d",
   "metadata": {},
   "outputs": [],
   "source": [
    "m,n,l = zip(*a)"
   ]
  },
  {
   "cell_type": "code",
   "execution_count": 6,
   "id": "94bc56a3",
   "metadata": {},
   "outputs": [
    {
     "data": {
      "text/plain": [
       "(1, 4, 7)"
      ]
     },
     "execution_count": 6,
     "metadata": {},
     "output_type": "execute_result"
    }
   ],
   "source": [
    "m\n"
   ]
  },
  {
   "cell_type": "code",
   "execution_count": 7,
   "id": "2421a1ac",
   "metadata": {},
   "outputs": [
    {
     "data": {
      "text/plain": [
       "[[1, 2, 3], [4, 5, 6], [7, 8, 9]]"
      ]
     },
     "execution_count": 7,
     "metadata": {},
     "output_type": "execute_result"
    }
   ],
   "source": [
    "a"
   ]
  },
  {
   "cell_type": "code",
   "execution_count": 9,
   "id": "c3206c3d",
   "metadata": {},
   "outputs": [],
   "source": [
    "l = [[0]*3 for row in range(8)]"
   ]
  },
  {
   "cell_type": "code",
   "execution_count": 10,
   "id": "b772860e",
   "metadata": {},
   "outputs": [
    {
     "data": {
      "text/plain": [
       "[[0, 0, 0],\n",
       " [0, 0, 0],\n",
       " [0, 0, 0],\n",
       " [0, 0, 0],\n",
       " [0, 0, 0],\n",
       " [0, 0, 0],\n",
       " [0, 0, 0],\n",
       " [0, 0, 0]]"
      ]
     },
     "execution_count": 10,
     "metadata": {},
     "output_type": "execute_result"
    }
   ],
   "source": [
    "l"
   ]
  },
  {
   "cell_type": "code",
   "execution_count": 12,
   "id": "4981436e",
   "metadata": {},
   "outputs": [
    {
     "name": "stdout",
     "output_type": "stream",
     "text": [
      "1 2\n"
     ]
    },
    {
     "ename": "ValueError",
     "evalue": "invalid literal for int() with base 10: '1 2'",
     "output_type": "error",
     "traceback": [
      "\u001b[1;31m---------------------------------------------------------------------------\u001b[0m",
      "\u001b[1;31mValueError\u001b[0m                                Traceback (most recent call last)",
      "\u001b[1;32m<ipython-input-12-412825436b97>\u001b[0m in \u001b[0;36m<module>\u001b[1;34m\u001b[0m\n\u001b[1;32m----> 1\u001b[1;33m \u001b[0ml\u001b[0m \u001b[1;33m=\u001b[0m \u001b[1;33m[\u001b[0m\u001b[0mlist\u001b[0m\u001b[1;33m(\u001b[0m\u001b[0mint\u001b[0m\u001b[1;33m(\u001b[0m\u001b[0minput\u001b[0m\u001b[1;33m(\u001b[0m\u001b[1;33m)\u001b[0m\u001b[1;33m)\u001b[0m\u001b[1;33m)\u001b[0m \u001b[1;32mfor\u001b[0m \u001b[0mrow\u001b[0m \u001b[1;32min\u001b[0m \u001b[0mrange\u001b[0m\u001b[1;33m(\u001b[0m\u001b[1;36m2\u001b[0m\u001b[1;33m)\u001b[0m \u001b[1;32mfor\u001b[0m \u001b[0mcol\u001b[0m \u001b[1;32min\u001b[0m \u001b[0mrange\u001b[0m\u001b[1;33m(\u001b[0m\u001b[1;36m3\u001b[0m\u001b[1;33m)\u001b[0m\u001b[1;33m]\u001b[0m\u001b[1;33m\u001b[0m\u001b[1;33m\u001b[0m\u001b[0m\n\u001b[0m",
      "\u001b[1;32m<ipython-input-12-412825436b97>\u001b[0m in \u001b[0;36m<listcomp>\u001b[1;34m(.0)\u001b[0m\n\u001b[1;32m----> 1\u001b[1;33m \u001b[0ml\u001b[0m \u001b[1;33m=\u001b[0m \u001b[1;33m[\u001b[0m\u001b[0mlist\u001b[0m\u001b[1;33m(\u001b[0m\u001b[0mint\u001b[0m\u001b[1;33m(\u001b[0m\u001b[0minput\u001b[0m\u001b[1;33m(\u001b[0m\u001b[1;33m)\u001b[0m\u001b[1;33m)\u001b[0m\u001b[1;33m)\u001b[0m \u001b[1;32mfor\u001b[0m \u001b[0mrow\u001b[0m \u001b[1;32min\u001b[0m \u001b[0mrange\u001b[0m\u001b[1;33m(\u001b[0m\u001b[1;36m2\u001b[0m\u001b[1;33m)\u001b[0m \u001b[1;32mfor\u001b[0m \u001b[0mcol\u001b[0m \u001b[1;32min\u001b[0m \u001b[0mrange\u001b[0m\u001b[1;33m(\u001b[0m\u001b[1;36m3\u001b[0m\u001b[1;33m)\u001b[0m\u001b[1;33m]\u001b[0m\u001b[1;33m\u001b[0m\u001b[1;33m\u001b[0m\u001b[0m\n\u001b[0m",
      "\u001b[1;31mValueError\u001b[0m: invalid literal for int() with base 10: '1 2'"
     ]
    }
   ],
   "source": [
    "l = [list(int(input())) for row in range(2) for col in range(3)]"
   ]
  },
  {
   "cell_type": "code",
   "execution_count": 14,
   "id": "3de63f3f",
   "metadata": {},
   "outputs": [],
   "source": [
    "m = [list(row) for row in zip(*a)]"
   ]
  },
  {
   "cell_type": "code",
   "execution_count": 15,
   "id": "290ef704",
   "metadata": {},
   "outputs": [
    {
     "data": {
      "text/plain": [
       "[[1, 4, 7], [2, 5, 8], [3, 6, 9]]"
      ]
     },
     "execution_count": 15,
     "metadata": {},
     "output_type": "execute_result"
    }
   ],
   "source": [
    "m"
   ]
  },
  {
   "cell_type": "code",
   "execution_count": 16,
   "id": "b5c8f577",
   "metadata": {},
   "outputs": [
    {
     "name": "stdout",
     "output_type": "stream",
     "text": [
      "1 2 3\n",
      "4 5 6\n",
      "7 8 9\n"
     ]
    }
   ],
   "source": [
    "for row in zip(*m):\n",
    "    print(*row)"
   ]
  },
  {
   "cell_type": "code",
   "execution_count": 17,
   "id": "e651c97e",
   "metadata": {},
   "outputs": [
    {
     "data": {
      "text/plain": [
       "[[1, 4, 7], [2, 5, 8], [3, 6, 9]]"
      ]
     },
     "execution_count": 17,
     "metadata": {},
     "output_type": "execute_result"
    }
   ],
   "source": [
    "m"
   ]
  },
  {
   "cell_type": "code",
   "execution_count": 18,
   "id": "90ca2fdd",
   "metadata": {},
   "outputs": [
    {
     "name": "stdout",
     "output_type": "stream",
     "text": [
      "1 4 7\n",
      "2 5 8\n",
      "3 6 9\n"
     ]
    }
   ],
   "source": [
    "for row in m:\n",
    "    print(*row)"
   ]
  },
  {
   "cell_type": "code",
   "execution_count": null,
   "id": "164dd18e",
   "metadata": {},
   "outputs": [],
   "source": [
    "#zip actually transposes the matrix elements\n",
    "#there are two types zipping and unzipping\n"
   ]
  }
 ],
 "metadata": {
  "kernelspec": {
   "display_name": "Python 3",
   "language": "python",
   "name": "python3"
  },
  "language_info": {
   "codemirror_mode": {
    "name": "ipython",
    "version": 3
   },
   "file_extension": ".py",
   "mimetype": "text/x-python",
   "name": "python",
   "nbconvert_exporter": "python",
   "pygments_lexer": "ipython3",
   "version": "3.8.8"
  }
 },
 "nbformat": 4,
 "nbformat_minor": 5
}
